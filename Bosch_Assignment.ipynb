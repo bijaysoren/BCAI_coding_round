{
 "cells": [
  {
   "cell_type": "code",
   "execution_count": 117,
   "metadata": {},
   "outputs": [],
   "source": [
    "import pandas as pd\n",
    "import logging\n",
    "import traceback\n",
    "import re, string\n",
    "import nltk\n",
    "from textblob import TextBlob\n",
    "logging.basicConfig(format='%(asctime)s : %(levelname)s : %(message)s', level=logging.INFO)"
   ]
  },
  {
   "cell_type": "code",
   "execution_count": 118,
   "metadata": {},
   "outputs": [],
   "source": [
    "def clean_str(string):\n",
    "  \"\"\"\n",
    "  String cleaning before we apply our function to predict sentiment scores\n",
    "  \"\"\"\n",
    "  try:\n",
    "    string = re.sub(r'^https?:\\/\\/<>.*[\\r\\n]*', '', string, flags=re.MULTILINE)\n",
    "    #string = re.sub(r\"[^A-Za-z]\", \" \", string) \n",
    "    string = re.sub(r\"\\W+\", \" \", string)\n",
    "    words = string.strip().lower()\n",
    "    return words\n",
    "  except:\n",
    "    print (traceback.print_exc())\n",
    "    return \"\""
   ]
  },
  {
   "cell_type": "code",
   "execution_count": 119,
   "metadata": {},
   "outputs": [],
   "source": [
    "#Load training and Test data\n",
    "data=pd.read_csv('Data.csv', header=0, delimiter=',')"
   ]
  },
  {
   "cell_type": "code",
   "execution_count": 120,
   "metadata": {},
   "outputs": [
    {
     "data": {
      "text/html": [
       "<div>\n",
       "<style scoped>\n",
       "    .dataframe tbody tr th:only-of-type {\n",
       "        vertical-align: middle;\n",
       "    }\n",
       "\n",
       "    .dataframe tbody tr th {\n",
       "        vertical-align: top;\n",
       "    }\n",
       "\n",
       "    .dataframe thead th {\n",
       "        text-align: right;\n",
       "    }\n",
       "</style>\n",
       "<table border=\"1\" class=\"dataframe\">\n",
       "  <thead>\n",
       "    <tr style=\"text-align: right;\">\n",
       "      <th></th>\n",
       "      <th>reviewerID</th>\n",
       "      <th>asin</th>\n",
       "      <th>reviewerName</th>\n",
       "      <th>helpful</th>\n",
       "      <th>reviewText</th>\n",
       "      <th>overall</th>\n",
       "      <th>summary</th>\n",
       "      <th>unixReviewTime</th>\n",
       "      <th>reviewTime</th>\n",
       "    </tr>\n",
       "  </thead>\n",
       "  <tbody>\n",
       "    <tr>\n",
       "      <td>0</td>\n",
       "      <td>A1XKCHZELFYG6D</td>\n",
       "      <td>1608838137</td>\n",
       "      <td>2563255553</td>\n",
       "      <td>[0, 0]</td>\n",
       "      <td>This is a good DVD to watch when TV networks a...</td>\n",
       "      <td>5.0</td>\n",
       "      <td>Classy show</td>\n",
       "      <td>1394236800</td>\n",
       "      <td>03 8, 2014</td>\n",
       "    </tr>\n",
       "    <tr>\n",
       "      <td>1</td>\n",
       "      <td>A3MCIAFO37VH14</td>\n",
       "      <td>1608838137</td>\n",
       "      <td>2-Stage \"2-Stage\"</td>\n",
       "      <td>[0, 0]</td>\n",
       "      <td>Are you kidding?  Talk about elements.  Produc...</td>\n",
       "      <td>5.0</td>\n",
       "      <td>It was okay..</td>\n",
       "      <td>1386201600</td>\n",
       "      <td>12 5, 2013</td>\n",
       "    </tr>\n",
       "    <tr>\n",
       "      <td>2</td>\n",
       "      <td>AZV9PA8JPVX8Y</td>\n",
       "      <td>1608838137</td>\n",
       "      <td>3marts</td>\n",
       "      <td>[0, 0]</td>\n",
       "      <td>From the music to the costumes, to the phenome...</td>\n",
       "      <td>5.0</td>\n",
       "      <td>Downton Abbey</td>\n",
       "      <td>1389916800</td>\n",
       "      <td>01 17, 2014</td>\n",
       "    </tr>\n",
       "    <tr>\n",
       "      <td>3</td>\n",
       "      <td>ATZN0D5WM2XE3</td>\n",
       "      <td>1608838137</td>\n",
       "      <td>6 in MI \"6 in MI\"</td>\n",
       "      <td>[0, 0]</td>\n",
       "      <td>Even with the crushing ending of the season, t...</td>\n",
       "      <td>5.0</td>\n",
       "      <td>The most beautiful show on television - ever</td>\n",
       "      <td>1388361600</td>\n",
       "      <td>12 30, 2013</td>\n",
       "    </tr>\n",
       "    <tr>\n",
       "      <td>4</td>\n",
       "      <td>A2A2J133G0WQXK</td>\n",
       "      <td>1608838137</td>\n",
       "      <td>7Turns \"Enlightened Rogue\"</td>\n",
       "      <td>[1, 1]</td>\n",
       "      <td>I first started watching this series in March....</td>\n",
       "      <td>5.0</td>\n",
       "      <td>Outstanding series</td>\n",
       "      <td>1365379200</td>\n",
       "      <td>04 8, 2013</td>\n",
       "    </tr>\n",
       "  </tbody>\n",
       "</table>\n",
       "</div>"
      ],
      "text/plain": [
       "       reviewerID        asin                reviewerName helpful  \\\n",
       "0  A1XKCHZELFYG6D  1608838137                  2563255553  [0, 0]   \n",
       "1  A3MCIAFO37VH14  1608838137           2-Stage \"2-Stage\"  [0, 0]   \n",
       "2   AZV9PA8JPVX8Y  1608838137                      3marts  [0, 0]   \n",
       "3   ATZN0D5WM2XE3  1608838137           6 in MI \"6 in MI\"  [0, 0]   \n",
       "4  A2A2J133G0WQXK  1608838137  7Turns \"Enlightened Rogue\"  [1, 1]   \n",
       "\n",
       "                                          reviewText  overall  \\\n",
       "0  This is a good DVD to watch when TV networks a...      5.0   \n",
       "1  Are you kidding?  Talk about elements.  Produc...      5.0   \n",
       "2  From the music to the costumes, to the phenome...      5.0   \n",
       "3  Even with the crushing ending of the season, t...      5.0   \n",
       "4  I first started watching this series in March....      5.0   \n",
       "\n",
       "                                        summary  unixReviewTime   reviewTime  \n",
       "0                                   Classy show      1394236800   03 8, 2014  \n",
       "1                                 It was okay..      1386201600   12 5, 2013  \n",
       "2                                 Downton Abbey      1389916800  01 17, 2014  \n",
       "3  The most beautiful show on television - ever      1388361600  12 30, 2013  \n",
       "4                            Outstanding series      1365379200   04 8, 2013  "
      ]
     },
     "execution_count": 120,
     "metadata": {},
     "output_type": "execute_result"
    }
   ],
   "source": [
    "data.head()"
   ]
  },
  {
   "cell_type": "code",
   "execution_count": 121,
   "metadata": {},
   "outputs": [
    {
     "data": {
      "text/plain": [
       "(23706, 9)"
      ]
     },
     "execution_count": 121,
     "metadata": {},
     "output_type": "execute_result"
    }
   ],
   "source": [
    "data.shape"
   ]
  },
  {
   "cell_type": "code",
   "execution_count": 122,
   "metadata": {},
   "outputs": [
    {
     "data": {
      "text/plain": [
       "Index(['reviewerID', 'asin', 'reviewerName', 'helpful', 'reviewText',\n",
       "       'overall', 'summary', 'unixReviewTime', 'reviewTime'],\n",
       "      dtype='object')"
      ]
     },
     "execution_count": 122,
     "metadata": {},
     "output_type": "execute_result"
    }
   ],
   "source": [
    "data.columns"
   ]
  },
  {
   "cell_type": "code",
   "execution_count": 123,
   "metadata": {},
   "outputs": [],
   "source": [
    "def sentiment_score(asin_id=None):\n",
    "    review_text = data[data['asin']==str(asin_id)].reviewText\n",
    "    sentiment_score = []\n",
    "    sentiment_positive = []\n",
    "    sentiment_negative = []\n",
    "    for items in enumerate(review_text): \n",
    "        blob_current = TextBlob(clean_str(items[1]))\n",
    "        sentiment_score.append(blob_current.sentiment[0])\n",
    "\n",
    "    for sentiment in sentiment_score:\n",
    "        if sentiment>=0:\n",
    "            sentiment_positive.append(sentiment)\n",
    "        else:\n",
    "            sentiment_negative.append(sentiment)\n",
    "\n",
    "    positive_sentiment_score = len(sentiment_positive)/len(sentiment_score)*100\n",
    "    negative_sentiment_score = len(sentiment_negative)/len(sentiment_score)*100\n",
    "    return positive_sentiment_score, negative_sentiment_score"
   ]
  },
  {
   "cell_type": "code",
   "execution_count": 124,
   "metadata": {},
   "outputs": [
    {
     "name": "stdout",
     "output_type": "stream",
     "text": [
      "Positive sentiment score is:  93.86413440467494\n",
      "Negative sentiment score is:  6.135865595325055\n"
     ]
    }
   ],
   "source": [
    "sentiment_scores = sentiment_score(asin_id=1608838137)\n",
    "print(\"Positive sentiment score is: \", sentiment_scores[0])\n",
    "print(\"Negative sentiment score is: \", sentiment_scores[1])"
   ]
  },
  {
   "cell_type": "markdown",
   "metadata": {},
   "source": [
    "***Conclusion*** Due to limited time and slow system, I could not do everything which I had thought of.\n",
    "Here the function outputs the sentiment score only (not the word cloud).\n",
    "\n",
    "Thanks!!!"
   ]
  },
  {
   "cell_type": "code",
   "execution_count": null,
   "metadata": {},
   "outputs": [],
   "source": []
  }
 ],
 "metadata": {
  "kernelspec": {
   "display_name": "Python 3",
   "language": "python",
   "name": "python3"
  },
  "language_info": {
   "codemirror_mode": {
    "name": "ipython",
    "version": 3
   },
   "file_extension": ".py",
   "mimetype": "text/x-python",
   "name": "python",
   "nbconvert_exporter": "python",
   "pygments_lexer": "ipython3",
   "version": "3.7.4"
  }
 },
 "nbformat": 4,
 "nbformat_minor": 2
}
